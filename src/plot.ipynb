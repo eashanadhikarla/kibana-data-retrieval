{
 "metadata": {
  "language_info": {
   "codemirror_mode": {
    "name": "ipython",
    "version": 3
   },
   "file_extension": ".py",
   "mimetype": "text/x-python",
   "name": "python",
   "nbconvert_exporter": "python",
   "pygments_lexer": "ipython3",
   "version": "3.8.10"
  },
  "orig_nbformat": 4,
  "kernelspec": {
   "name": "python3",
   "display_name": "Python 3.8.10 64-bit"
  },
  "interpreter": {
   "hash": "f6e2000e74d83ab38a7a73c8353776f8595191be383670aed524d2a15b88663d"
  }
 },
 "nbformat": 4,
 "nbformat_minor": 2,
 "cells": [
  {
   "cell_type": "code",
   "execution_count": 1,
   "metadata": {},
   "outputs": [],
   "source": [
    "import os\n",
    "import pandas as pd\n",
    "import numpy as np\n",
    "import matplotlib.pyplot as plt"
   ]
  },
  {
   "cell_type": "code",
   "execution_count": 3,
   "metadata": {},
   "outputs": [],
   "source": [
    "FILENAME = '../data/iperf3.csv'\n",
    "if FILENAME[-3:]==\"csv\":\n",
    "    df = pd.read_csv(FILENAME)"
   ]
  },
  {
   "cell_type": "code",
   "execution_count": 4,
   "metadata": {},
   "outputs": [
    {
     "output_type": "execute_result",
     "data": {
      "text/plain": [
       "   Unnamed: 0                                  uuid                 timestamp  \\\n",
       "0           0  60343553-5957-4bfc-8ae0-6cad3256a1cf  2021-06-22T18:51:47.791Z   \n",
       "1           1  60343553-5957-4bfc-8ae0-6cad3256a1cf  2021-06-22T18:51:47.791Z   \n",
       "2           2  60343553-5957-4bfc-8ae0-6cad3256a1cf  2021-06-22T18:51:47.791Z   \n",
       "3           3  60343553-5957-4bfc-8ae0-6cad3256a1cf  2021-06-22T18:51:47.791Z   \n",
       "4           4  60343553-5957-4bfc-8ae0-6cad3256a1cf  2021-06-22T18:51:47.791Z   \n",
       "\n",
       "   num_streams  sender_start  sender_end  sender_retransmits  sender_bytes  \\\n",
       "0            4             0   60.000099                  27    2669346496   \n",
       "1            4             0   60.000099                  27    2757102100   \n",
       "2            4             0   60.000099                  28    2199549648   \n",
       "3            4             0   60.000099                  28    1615156436   \n",
       "4            4             0   60.000099                  27    2669346496   \n",
       "\n",
       "   sender_min_rtt  sender_max_rtt  sender_mean_rtt   sender_bps  \\\n",
       "0          100268          102760           100618  355912278.9   \n",
       "1          100279          102665           100593  367613006.8   \n",
       "2          100280          102719           100699  293272802.5   \n",
       "3          100306          103874           100966  215353836.1   \n",
       "4          100268          102760           100618  355912278.9   \n",
       "\n",
       "   receiver_start  receiver_end  receiver_seconds  receiver_bytes  \\\n",
       "0               0     60.100342         60.000099      2506661340   \n",
       "1               0     60.100342         60.000099      2578486936   \n",
       "2               0     60.100342         60.000099      2049597500   \n",
       "3               0     60.100342         60.000099      1434010892   \n",
       "4               0     60.100342         60.000099      2506661340   \n",
       "\n",
       "   receiver_bps  \n",
       "0   333663504.3  \n",
       "1   343224261.3  \n",
       "2   272823405.9  \n",
       "3   190882227.2  \n",
       "4   333663504.3  "
      ],
      "text/html": "<div>\n<style scoped>\n    .dataframe tbody tr th:only-of-type {\n        vertical-align: middle;\n    }\n\n    .dataframe tbody tr th {\n        vertical-align: top;\n    }\n\n    .dataframe thead th {\n        text-align: right;\n    }\n</style>\n<table border=\"1\" class=\"dataframe\">\n  <thead>\n    <tr style=\"text-align: right;\">\n      <th></th>\n      <th>Unnamed: 0</th>\n      <th>uuid</th>\n      <th>timestamp</th>\n      <th>num_streams</th>\n      <th>sender_start</th>\n      <th>sender_end</th>\n      <th>sender_retransmits</th>\n      <th>sender_bytes</th>\n      <th>sender_min_rtt</th>\n      <th>sender_max_rtt</th>\n      <th>sender_mean_rtt</th>\n      <th>sender_bps</th>\n      <th>receiver_start</th>\n      <th>receiver_end</th>\n      <th>receiver_seconds</th>\n      <th>receiver_bytes</th>\n      <th>receiver_bps</th>\n    </tr>\n  </thead>\n  <tbody>\n    <tr>\n      <th>0</th>\n      <td>0</td>\n      <td>60343553-5957-4bfc-8ae0-6cad3256a1cf</td>\n      <td>2021-06-22T18:51:47.791Z</td>\n      <td>4</td>\n      <td>0</td>\n      <td>60.000099</td>\n      <td>27</td>\n      <td>2669346496</td>\n      <td>100268</td>\n      <td>102760</td>\n      <td>100618</td>\n      <td>355912278.9</td>\n      <td>0</td>\n      <td>60.100342</td>\n      <td>60.000099</td>\n      <td>2506661340</td>\n      <td>333663504.3</td>\n    </tr>\n    <tr>\n      <th>1</th>\n      <td>1</td>\n      <td>60343553-5957-4bfc-8ae0-6cad3256a1cf</td>\n      <td>2021-06-22T18:51:47.791Z</td>\n      <td>4</td>\n      <td>0</td>\n      <td>60.000099</td>\n      <td>27</td>\n      <td>2757102100</td>\n      <td>100279</td>\n      <td>102665</td>\n      <td>100593</td>\n      <td>367613006.8</td>\n      <td>0</td>\n      <td>60.100342</td>\n      <td>60.000099</td>\n      <td>2578486936</td>\n      <td>343224261.3</td>\n    </tr>\n    <tr>\n      <th>2</th>\n      <td>2</td>\n      <td>60343553-5957-4bfc-8ae0-6cad3256a1cf</td>\n      <td>2021-06-22T18:51:47.791Z</td>\n      <td>4</td>\n      <td>0</td>\n      <td>60.000099</td>\n      <td>28</td>\n      <td>2199549648</td>\n      <td>100280</td>\n      <td>102719</td>\n      <td>100699</td>\n      <td>293272802.5</td>\n      <td>0</td>\n      <td>60.100342</td>\n      <td>60.000099</td>\n      <td>2049597500</td>\n      <td>272823405.9</td>\n    </tr>\n    <tr>\n      <th>3</th>\n      <td>3</td>\n      <td>60343553-5957-4bfc-8ae0-6cad3256a1cf</td>\n      <td>2021-06-22T18:51:47.791Z</td>\n      <td>4</td>\n      <td>0</td>\n      <td>60.000099</td>\n      <td>28</td>\n      <td>1615156436</td>\n      <td>100306</td>\n      <td>103874</td>\n      <td>100966</td>\n      <td>215353836.1</td>\n      <td>0</td>\n      <td>60.100342</td>\n      <td>60.000099</td>\n      <td>1434010892</td>\n      <td>190882227.2</td>\n    </tr>\n    <tr>\n      <th>4</th>\n      <td>4</td>\n      <td>60343553-5957-4bfc-8ae0-6cad3256a1cf</td>\n      <td>2021-06-22T18:51:47.791Z</td>\n      <td>4</td>\n      <td>0</td>\n      <td>60.000099</td>\n      <td>27</td>\n      <td>2669346496</td>\n      <td>100268</td>\n      <td>102760</td>\n      <td>100618</td>\n      <td>355912278.9</td>\n      <td>0</td>\n      <td>60.100342</td>\n      <td>60.000099</td>\n      <td>2506661340</td>\n      <td>333663504.3</td>\n    </tr>\n  </tbody>\n</table>\n</div>"
     },
     "metadata": {},
     "execution_count": 4
    }
   ],
   "source": [
    "df.head()"
   ]
  },
  {
   "cell_type": "code",
   "execution_count": null,
   "metadata": {},
   "outputs": [],
   "source": []
  }
 ]
}